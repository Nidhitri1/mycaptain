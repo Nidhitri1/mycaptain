{
 "cells": [
  {
   "cell_type": "code",
   "execution_count": 4,
   "metadata": {},
   "outputs": [
    {
     "name": "stdout",
     "output_type": "stream",
     "text": [
      "11 0 45 66 "
     ]
    }
   ],
   "source": [
    "# Python program to print positive Numbers in a List \n",
    "\n",
    "# list of numbers \n",
    "list1 = [11, -21, 0, 45, 66, -93] \n",
    "\n",
    "# iterating each number in list \n",
    "for num in list1: \n",
    "\n",
    "# checking condition \n",
    "    if num >= 0: \n",
    "        print(num, end = \" \") \n"
   ]
  },
  {
   "cell_type": "code",
   "execution_count": 6,
   "metadata": {},
   "outputs": [
    {
     "name": "stdout",
     "output_type": "stream",
     "text": [
      "12 14 3 "
     ]
    }
   ],
   "source": [
    "# Python program to print positive Numbers in a List \n",
    "\n",
    "# list of numbers \n",
    "list2 = [12, 14, -95, 3] \n",
    "\n",
    "# iterating each number in list \n",
    "for num in list2: \n",
    "\n",
    "# checking condition \n",
    "    if num >= 0: \n",
    "        print(num, end = \" \") "
   ]
  },
  {
   "cell_type": "code",
   "execution_count": null,
   "metadata": {},
   "outputs": [],
   "source": []
  }
 ],
 "metadata": {
  "kernelspec": {
   "display_name": "Python 3",
   "language": "python",
   "name": "python3"
  },
  "language_info": {
   "codemirror_mode": {
    "name": "ipython",
    "version": 3
   },
   "file_extension": ".py",
   "mimetype": "text/x-python",
   "name": "python",
   "nbconvert_exporter": "python",
   "pygments_lexer": "ipython3",
   "version": "3.7.6"
  }
 },
 "nbformat": 4,
 "nbformat_minor": 4
}
