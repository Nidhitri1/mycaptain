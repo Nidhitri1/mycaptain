{
 "cells": [
  {
   "cell_type": "code",
   "execution_count": 2,
   "metadata": {},
   "outputs": [
    {
     "name": "stdout",
     "output_type": "stream",
     "text": [
      "[2, 4, 6, 8]\n",
      "[1, 7, 9, 5]\n",
      "[2, 4, 6, 8, 8, 10, 12]\n",
      "[1, 7, 9, 5, 3, 11, 13]\n"
     ]
    }
   ],
   "source": [
    "# Adding elements to different lists\n",
    "odd = [1, 7, 9]\n",
    "even= [2,4,6]\n",
    "even.append(8)\n",
    "odd.append(5)\n",
    "print(even)\n",
    "print(odd)\n",
    "even.extend([8,10,12])\n",
    "odd.extend([3, 11, 13])\n",
    "print(even)\n",
    "print(odd)"
   ]
  },
  {
   "cell_type": "code",
   "execution_count": 6,
   "metadata": {},
   "outputs": [
    {
     "name": "stdout",
     "output_type": "stream",
     "text": [
      "t1 physics\n",
      "t2[1:5] (2, 3, 4, 5)\n"
     ]
    }
   ],
   "source": [
    "#accessing elements in tuple\n",
    "t1 = ('physics', 'chemistry', 1997, 2000);\n",
    "t2 = (1, 2, 3, 4, 5, 6, 7 );\n",
    "print(\"t1\", t1[0]);\n",
    "print (\"t2[1:5]\", t2[1:5]);"
   ]
  },
  {
   "cell_type": "code",
   "execution_count": 7,
   "metadata": {},
   "outputs": [
    {
     "name": "stdout",
     "output_type": "stream",
     "text": [
      "The dictionary before performing remove is : {'Arushi': 22, 'Anuradha': 21, 'Mani': 21, 'Haritha': 21}\n",
      "The dictionary after remove is : {'Arushi': 22, 'Anuradha': 21, 'Haritha': 21}\n"
     ]
    }
   ],
   "source": [
    "#Deleting different dictionary elements\n",
    "# Initializing dictionary \n",
    "dict = {\"Arushi\" : 22, \"Anuradha\" : 21, \"Mani\" : 21, \"Haritha\" : 21} \n",
    "  \n",
    "# Printing dictionary before removal \n",
    "print (\"The dictionary before performing remove is : \" + str(dict)) \n",
    "  \n",
    "# Using del to remove a dict  \n",
    "del dict['Mani'] \n",
    "  \n",
    "# Printing dictionary after removal \n",
    "print (\"The dictionary after remove is : \" + str(dict))"
   ]
  },
  {
   "cell_type": "code",
   "execution_count": null,
   "metadata": {},
   "outputs": [],
   "source": []
  }
 ],
 "metadata": {
  "kernelspec": {
   "display_name": "Python 3",
   "language": "python",
   "name": "python3"
  },
  "language_info": {
   "codemirror_mode": {
    "name": "ipython",
    "version": 3
   },
   "file_extension": ".py",
   "mimetype": "text/x-python",
   "name": "python",
   "nbconvert_exporter": "python",
   "pygments_lexer": "ipython3",
   "version": "3.7.6"
  }
 },
 "nbformat": 4,
 "nbformat_minor": 4
}
